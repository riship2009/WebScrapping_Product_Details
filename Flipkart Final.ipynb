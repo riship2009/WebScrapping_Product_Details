{
 "cells": [
  {
   "cell_type": "code",
   "execution_count": 2,
   "metadata": {},
   "outputs": [],
   "source": [
    "\n",
    "from urllib.request import urlopen as ureq\n",
    "from bs4 import BeautifulSoup as soup\n"
   ]
  },
  {
   "cell_type": "code",
   "execution_count": null,
   "metadata": {},
   "outputs": [],
   "source": [
    "filename = \"Flipkart scrapped - Final.csv\"\n",
    "f = open(filename,\"w\")\n",
    "\n",
    "headers = \"Name,Cost(in Rupees),Description\\n\"\n",
    "\n",
    "f.write(headers)\n",
    "\n",
    "m=1\n",
    "for m in range(1,11):\n",
    "    page_url = \"https://www.flipkart.com/mobiles-accessories/mobiles/pr?sid=tyy%2C4io&p%5B%5D=\" +\n",
    "               \"facets.brand%255B%255D%3DSamsung&p%5B%5D=facets.brand%255B%255D%3DApple&otracker=categorytree&page=\" +str(m)\n",
    "    \n",
    "    a = ureq(page_url) \n",
    "    page_url = a.read()  \n",
    "    a.close()\n",
    "\n",
    "    flipkart_html = soup(page_url, \"html.parser\")\n",
    "    name = flipkart_html.findAll(\"div\",{\"class\":\"_3wU53n\"})\n",
    "    cost = flipkart_html.findAll(\"div\",{\"class\":\"_1vC4OE _2rQ-NK\"})\n",
    "    Description = flipkart_html.findAll(\"ul\",{\"class\":\"vFw0gD\"})\n",
    "    \n",
    "    p=0\n",
    "    t=0\n",
    "    for n in range(len(name)):\n",
    "        f.write(name[n].text.replace(\",\",\" -\") + \",\" + cost[p].text.replace(\"₹\",\"\").replace(\",\",\"\") \n",
    "                + \",\" + Description[t].text.replace(\",\",\" -\") + '\\n')\n",
    "        p=p+1\n",
    "        t=t+1\n",
    "        \n",
    "f.close()\n",
    "\n"
   ]
  },
  {
   "cell_type": "code",
   "execution_count": null,
   "metadata": {},
   "outputs": [],
   "source": []
  }
 ],
 "metadata": {
  "kernelspec": {
   "display_name": "Python 3",
   "language": "python",
   "name": "python3"
  },
  "language_info": {
   "codemirror_mode": {
    "name": "ipython",
    "version": 3
   },
   "file_extension": ".py",
   "mimetype": "text/x-python",
   "name": "python",
   "nbconvert_exporter": "python",
   "pygments_lexer": "ipython3",
   "version": "3.7.4"
  }
 },
 "nbformat": 4,
 "nbformat_minor": 2
}
